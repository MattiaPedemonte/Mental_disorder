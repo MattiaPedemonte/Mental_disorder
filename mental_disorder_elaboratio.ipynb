{
 "cells": [
  {
   "cell_type": "code",
   "execution_count": 1,
   "metadata": {},
   "outputs": [
    {
     "name": "stdout",
     "output_type": "stream",
     "text": [
      "['Patient Number', 'Sadness', 'Euphoric', 'Exhausted', 'Sleep dissorder', 'Mood Swing', 'Suicidal thoughts', 'Anorxia', 'Authority Respect', 'Try-Explanation', 'Aggressive Response', 'Ignore & Move-On', 'Nervous Break-down', 'Admit Mistakes', 'Overthinking', 'Sexual Activity', 'Concentration', 'Optimisim', 'Expert Diagnose']\n",
      "Sadness unique values: ['Most-Often' 'Seldom' 'Sometimes' 'Usually']\n",
      "\n",
      "Euphoric unique values: ['Most-Often' 'Seldom' 'Sometimes' 'Usually']\n",
      "\n",
      "Exhausted unique values: ['Most-Often' 'Seldom' 'Sometimes' 'Usually']\n",
      "\n",
      "Sleep dissorder unique values: ['Most-Often' 'Seldom' 'Sometimes' 'Usually']\n",
      "\n",
      "Mood Swing unique values: ['NO' 'YES']\n",
      "\n",
      "Suicidal thoughts unique values: ['NO' 'YES' 'YES ']\n",
      "\n",
      "Anorxia unique values: ['NO' 'YES']\n",
      "\n",
      "Authority Respect unique values: ['NO' 'YES']\n",
      "\n",
      "Try-Explanation unique values: ['NO' 'YES']\n",
      "\n",
      "Aggressive Response unique values: ['NO' 'YES']\n",
      "\n",
      "Ignore & Move-On unique values: ['NO' 'YES']\n",
      "\n",
      "Nervous Break-down unique values: ['NO' 'YES']\n",
      "\n",
      "Admit Mistakes unique values: ['NO' 'YES']\n",
      "\n",
      "Overthinking unique values: ['NO' 'YES']\n",
      "\n",
      "Sexual Activity unique values: ['1 From 10' '2 From 10' '3 From 10' '4 From 10' '5 From 10' '6 From 10'\n",
      " '7 From 10' '8 From 10' '9 From 10']\n",
      "\n",
      "Concentration unique values: ['1 From 10' '2 From 10' '3 From 10' '4 From 10' '5 From 10' '6 From 10'\n",
      " '7 From 10' '8 From 10']\n",
      "\n",
      "Optimisim unique values: ['1 From 10' '2 From 10' '3 From 10' '4 From 10' '5 From 10' '6 From 10'\n",
      " '7 From 10' '8 From 10' '9 From 10']\n",
      "\n",
      "Expert Diagnose unique values: ['Bipolar Type-1' 'Bipolar Type-2' 'Depression' 'Normal']\n",
      "\n"
     ]
    }
   ],
   "source": [
    "import pandas as pd\n",
    "import numpy as np\n",
    "## Read the CSV file\n",
    "Data = pd.read_csv(\"Dataset-Mental-Disorders.csv\")\n",
    "#print(Data.head())\n",
    "features = list(Data.columns)\n",
    "print(features)\n",
    "frequency_dict= {'Usually': 1,'Most-Often':2,'Sometimes':3,'Seldom':4}\n",
    "bool_dict={'YES':1, 'NO':0}\n",
    "for f in features[1:]:\n",
    "    print(str(f) + \" unique values: \" + str(np.unique(Data[f])) + '\\n')\n",
    "\n",
    "Data['Suicidal thoughts'][np.where(Data['Suicidal thoughts'].values=='YES ')] = 'YES' #tolgo errore di battitura dove ho un 'YES ' "
   ]
  },
  {
   "cell_type": "code",
   "execution_count": 2,
   "metadata": {},
   "outputs": [],
   "source": [
    "def extract(element: str) -> str:\n",
    "    return int(element.split(' ')[0])\n",
    "\n",
    "def extract_mark(Data_features):\n",
    "    Data_features=Data_features.map(extract)\n",
    "    return Data_features\n",
    "\n",
    "freq_list = ['Sadness','Euphoric','Exhausted','Sleep dissorder']\n",
    "mark_list = ['Sexual Activity','Concentration','Optimisim']\n",
    "unique_label_dict = {label: idx for idx,label in enumerate(np.unique(Data['Expert Diagnose']))}\n",
    "\n",
    "for f in features:\n",
    "    if f == 'Patient Number':\n",
    "        continue\n",
    "    if f in freq_list:\n",
    "        Data[f] = Data[f].map(frequency_dict)\n",
    "    elif f in mark_list:\n",
    "        Data[f] = extract_mark(Data[f])\n",
    "    elif f == features[-1]: #if label\n",
    "        Data[f] = Data[f].map(unique_label_dict)\n",
    "    else:\n",
    "        Data[f] = Data[f].map(bool_dict)"
   ]
  },
  {
   "cell_type": "code",
   "execution_count": 3,
   "metadata": {},
   "outputs": [
    {
     "name": "stdout",
     "output_type": "stream",
     "text": [
      "Patient Number         Patiant-11\n",
      "Sadness                         4\n",
      "Euphoric                        3\n",
      "Exhausted                       4\n",
      "Sleep dissorder                 4\n",
      "Mood Swing                      0\n",
      "Suicidal thoughts               0\n",
      "Anorxia                         0\n",
      "Authority Respect               1\n",
      "Try-Explanation                 0\n",
      "Aggressive Response             0\n",
      "Ignore & Move-On                0\n",
      "Nervous Break-down              0\n",
      "Admit Mistakes                  1\n",
      "Overthinking                    0\n",
      "Sexual Activity                 5\n",
      "Concentration                   7\n",
      "Optimisim                       8\n",
      "Expert Diagnose                 3\n",
      "Name: 10, dtype: object\n",
      "  Patient Number  Sadness  Euphoric  Exhausted  Sleep dissorder  Mood Swing  \\\n",
      "0     Patiant-01        1         4          3                3           1   \n",
      "1     Patiant-02        1         4          1                3           0   \n",
      "2     Patiant-03        3         2          3                3           1   \n",
      "3     Patiant-04        1         4          1                2           1   \n",
      "4     Patiant-05        1         1          3                3           0   \n",
      "\n",
      "   Suicidal thoughts  Anorxia  Authority Respect  Try-Explanation  \\\n",
      "0                  1        0                  0                1   \n",
      "1                  1        0                  0                0   \n",
      "2                  0        0                  0                1   \n",
      "3                  1        1                  0                1   \n",
      "4                  0        0                  0                0   \n",
      "\n",
      "   Aggressive Response  Ignore & Move-On  Nervous Break-down  Admit Mistakes  \\\n",
      "0                    0                 0                   1               1   \n",
      "1                    0                 0                   0               0   \n",
      "2                    1                 0                   1               1   \n",
      "3                    0                 0                   0               0   \n",
      "4                    0                 0                   1               1   \n",
      "\n",
      "   Overthinking  Sexual Activity  Concentration  Optimisim  Expert Diagnose  \n",
      "0             1                3              3          4                1  \n",
      "1             0                4              2          5                2  \n",
      "2             0                6              5          7                0  \n",
      "3             0                3              2          2                1  \n",
      "4             1                5              5          6                3  \n"
     ]
    }
   ],
   "source": [
    "first_patient=Data.iloc[10,:]\n",
    "print(first_patient)\n",
    "print(Data.head())"
   ]
  },
  {
   "cell_type": "code",
   "execution_count": 4,
   "metadata": {},
   "outputs": [],
   "source": [
    "Data.to_csv('Dataset-Mental-Disorders-Clean.csv', index=False)  "
   ]
  }
 ],
 "metadata": {
  "kernelspec": {
   "display_name": "Python 3",
   "language": "python",
   "name": "python3"
  },
  "language_info": {
   "codemirror_mode": {
    "name": "ipython",
    "version": 3
   },
   "file_extension": ".py",
   "mimetype": "text/x-python",
   "name": "python",
   "nbconvert_exporter": "python",
   "pygments_lexer": "ipython3",
   "version": "3.9.13"
  }
 },
 "nbformat": 4,
 "nbformat_minor": 2
}
